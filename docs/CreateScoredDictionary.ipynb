{
 "cells": [
  {
   "cell_type": "markdown",
   "metadata": {},
   "source": [
    "### Original dictionary\n",
    "The Wordle dictionary, sorted alphabetically, is stored in wordle_dictionary.py"
   ]
  },
  {
   "cell_type": "code",
   "execution_count": 1,
   "metadata": {},
   "outputs": [],
   "source": [
    "from WordleBot.wordle_dictionary import dictionary"
   ]
  },
  {
   "cell_type": "markdown",
   "metadata": {},
   "source": [
    "### Create letter scores\n",
    "The score for each letter is the total number of times it occurs in the dictionary"
   ]
  },
  {
   "cell_type": "code",
   "execution_count": 2,
   "metadata": {},
   "outputs": [],
   "source": [
    "dictionary.reverse() # so that final dictionary will be sorted alphabetically within equal scores\n",
    "\n",
    "str_dictionary = ''.join(dictionary)\n",
    "alphabet = 'abcdefghijklmnopqrstuvwxyz'\n",
    "alphabet_list = [a for a in alphabet]\n",
    "letter_scores_list = [str_dictionary.count(letter) for letter in alphabet]\n",
    "\n",
    "# Score of each letter is just the number of times it appears in the dictionary\n",
    "letter_scores = dict(zip(alphabet_list,letter_scores_list))"
   ]
  },
  {
   "cell_type": "markdown",
   "metadata": {},
   "source": [
    "### Here are the letter scores this generates"
   ]
  },
  {
   "cell_type": "code",
   "execution_count": 3,
   "metadata": {},
   "outputs": [],
   "source": [
    "letter_scores = {'a': 5990, 'b': 1627, 'c': 2028, 'd': 2453, 'e': 6662, 'f': 1115, 'g': 1644, 'h': 1760, 'i': 3759, 'j': 291, 'k': 1505, 'l': 3371, 'm': 1976, 'n': 2952, 'o': 4438, 'p': 2019, 'q': 112, 'r': 4158, 's': 6665, 't': 3295, 'u': 2511, 'v': 694, 'w': 1039, 'x': 288, 'y': 2074, 'z': 434}"
   ]
  },
  {
   "cell_type": "markdown",
   "metadata": {},
   "source": [
    "### Create dictionary scores\n",
    "For each word in the dictionary, the score is the sum of its *unique* letter scores"
   ]
  },
  {
   "cell_type": "code",
   "execution_count": 4,
   "metadata": {},
   "outputs": [],
   "source": [
    "# Score of a word is the sum of the *unique* letter scores in each word\n",
    "dictionary_scores_list = [sum([letter_scores[letter] for letter in set(word)]) for word in dictionary]\n",
    "dictionary_scores = dict(zip(dictionary,dictionary_scores_list))\n",
    "scored_dictionary = sorted(dictionary_scores, key=dictionary_scores.get)\n",
    "scored_dictionary.reverse() # Sort by score *descending*"
   ]
  },
  {
   "cell_type": "markdown",
   "metadata": {},
   "source": [
    "This final dictionary, sorted by word score, is also stored in wordle_dictionary.py"
   ]
  },
  {
   "cell_type": "code",
   "execution_count": 5,
   "metadata": {},
   "outputs": [],
   "source": [
    "from WordleBot.wordle_dictionary import scored_dictionary"
   ]
  }
 ],
 "metadata": {
  "kernelspec": {
   "display_name": "Python 3",
   "language": "python",
   "name": "python3"
  },
  "language_info": {
   "codemirror_mode": {
    "name": "ipython",
    "version": 3
   },
   "file_extension": ".py",
   "mimetype": "text/x-python",
   "name": "python",
   "nbconvert_exporter": "python",
   "pygments_lexer": "ipython3",
   "version": "3.7.4"
  }
 },
 "nbformat": 4,
 "nbformat_minor": 5
}
