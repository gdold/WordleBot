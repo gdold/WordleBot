{
 "cells": [
  {
   "cell_type": "markdown",
   "id": "aa72f4f5",
   "metadata": {},
   "source": [
    "# Imports"
   ]
  },
  {
   "cell_type": "code",
   "execution_count": 1,
   "id": "826e7be5",
   "metadata": {},
   "outputs": [],
   "source": [
    "from WordleBot import WordleBot"
   ]
  },
  {
   "cell_type": "code",
   "execution_count": 2,
   "id": "d237ad0b",
   "metadata": {},
   "outputs": [],
   "source": [
    "import numpy as np\n",
    "import matplotlib.pyplot as plt\n",
    "from multiprocessing import Pool"
   ]
  },
  {
   "cell_type": "markdown",
   "id": "07b06afe",
   "metadata": {},
   "source": [
    "# Basic usage\n",
    "Assign the wordle to the bot (pick from the list, pick randomly, or just give it a word). \n",
    "Bot filters the list of possible words according to the information it has, \n",
    "then guesses the highest-scoring word that remains"
   ]
  },
  {
   "cell_type": "code",
   "execution_count": 3,
   "id": "b02e7c81",
   "metadata": {},
   "outputs": [
    {
     "name": "stdout",
     "output_type": "stream",
     "text": [
      "⬜⬜🟨⬜🟨\n",
      "⬜🟨⬜🟩⬜\n",
      "🟩🟩🟩🟩🟩\n"
     ]
    }
   ],
   "source": [
    "bot = WordleBot(strategy=\"entropy\",dark_mode=False)\n",
    "bot.set_wordle(bot.wordles[208])\n",
    "#bot.pick_wordle(209) # equivalent to above\n",
    "#bot.pick_random_wordle()\n",
    "#bot.set_todays_wordle()\n",
    "#bot.set_wordle('kiosk')\n",
    "\n",
    "while not bot.solved:\n",
    "    bot.filter_possible_words()\n",
    "    guess = bot.make_guess() # Pick first word in filtered, scored list. Alternatively pick randomly with bot.make_random_guess()\n",
    "    bot.check_guess(guess)\n",
    "\n",
    "bot.print_colours()"
   ]
  },
  {
   "cell_type": "markdown",
   "id": "14195a3f",
   "metadata": {},
   "source": [
    "or, for the basic setup of picking today's wordle and solving it with the very basic strategy above:"
   ]
  },
  {
   "cell_type": "code",
   "execution_count": 9,
   "id": "e5476ff1",
   "metadata": {},
   "outputs": [
    {
     "name": "stdout",
     "output_type": "stream",
     "text": [
      "🟨⬛⬛⬛⬛\n",
      "⬛🟨⬛🟨⬛\n",
      "⬛🟨🟨🟩🟨\n",
      "🟩🟩🟩🟩🟩\n"
     ]
    }
   ],
   "source": [
    "bot = WordleBot(strategy=\"scored\")\n",
    "bot.solve() # solve() will set today's wordle if you neglected to set it already"
   ]
  },
  {
   "cell_type": "markdown",
   "id": "1bbd0184",
   "metadata": {},
   "source": [
    "# Script for testing out strategies\n",
    "\n",
    "When you initiate WordleBot, you can send the optional argument ```strategy``` which selects a strategy for the guesser. ```strategy``` equals \"scored\" by default."
   ]
  },
  {
   "cell_type": "code",
   "execution_count": 4,
   "id": "ee5583c5",
   "metadata": {},
   "outputs": [],
   "source": [
    "def do_a_wordle(wordle):\n",
    "    bot = WordleBot(strategy=\"entropy\")\n",
    "    bot.set_wordle(wordle)\n",
    "    \n",
    "    while not bot.solved:\n",
    "        bot.filter_possible_words()\n",
    "        guess = bot.make_guess()\n",
    "        bot.check_guess(guess)\n",
    "    return bot.num_of_guesses"
   ]
  },
  {
   "cell_type": "code",
   "execution_count": 5,
   "id": "ee1346be",
   "metadata": {},
   "outputs": [],
   "source": [
    "pooling=True\n",
    "n = len(bot.dictionary)\n",
    "if pooling:\n",
    "        pool=Pool()\n",
    "        num_of_guesses_to_get_answer=pool.map(do_a_wordle,bot.dictionary)\n",
    "else:\n",
    "    num_of_guesses_to_get_answer = []\n",
    "\n",
    "    i = 0\n",
    "    for i,wordle in enumerate(bot.dictionary):\n",
    "        do_a_wordle(wordle)\n",
    "        print('\\r{}/{}'.format(i+1,n),end='')\n",
    "        num_of_guesses_to_get_answer.append(bot.num_of_guesses)"
   ]
  },
  {
   "cell_type": "code",
   "execution_count": 6,
   "id": "e22332de",
   "metadata": {},
   "outputs": [
    {
     "name": "stdout",
     "output_type": "stream",
     "text": [
      "Success rate: 88.24%\n",
      "Median guesses: 4\n",
      "Mean guesses: 4.75\n"
     ]
    },
    {
     "data": {
      "image/png": "[encoded data removed]",
      "text/plain": [
       "<Figure size 432x288 with 1 Axes>"
      ]
     },
     "metadata": {
      "needs_background": "light"
     },
     "output_type": "display_data"
    }
   ],
   "source": [
    "success_rate = (np.array(num_of_guesses_to_get_answer)<7).sum()/n*100\n",
    "print('\\rSuccess rate: {:.2f}%'.format(success_rate))\n",
    "print('Median guesses: {:.0f}'.format(np.median(num_of_guesses_to_get_answer)))\n",
    "print('Mean guesses: {:.2f}'.format(np.mean(num_of_guesses_to_get_answer)))\n",
    "\n",
    "plt.hist(num_of_guesses_to_get_answer,bins=[1,2,3,4,5,6,7,8,9,10,11,12,13,14,15])\n",
    "y_max = plt.ylim()[1]\n",
    "plt.vlines(7,0,y_max,colors='r')\n",
    "plt.xlim([1,15])\n",
    "plt.ylim([0,y_max])\n",
    "plt.xlabel('Number of guesses')\n",
    "plt.ylabel('Occurence')\n",
    "plt.title('Histogram of guesses over entire dictionary')\n",
    "plt.show()"
   ]
  },
  {
   "cell_type": "code",
   "execution_count": null,
   "id": "d6d38dcf",
   "metadata": {},
   "outputs": [],
   "source": []
  }
 ],
 "metadata": {
  "kernelspec": {
   "display_name": "Python 3",
   "language": "python",
   "name": "python3"
  },
  "language_info": {
   "codemirror_mode": {
    "name": "ipython",
    "version": 3
   },
   "file_extension": ".py",
   "mimetype": "text/x-python",
   "name": "python",
   "nbconvert_exporter": "python",
   "pygments_lexer": "ipython3",
   "version": "3.8.11"
  }
 },
 "nbformat": 4,
 "nbformat_minor": 5
}
