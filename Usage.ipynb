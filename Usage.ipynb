{
 "cells": [
  {
   "cell_type": "markdown",
   "metadata": {},
   "source": [
    "# Imports"
   ]
  },
  {
   "cell_type": "code",
   "execution_count": 1,
   "metadata": {},
   "outputs": [],
   "source": [
    "from WordleBot import WordleBot"
   ]
  },
  {
   "cell_type": "markdown",
   "metadata": {},
   "source": [
    "# Basic usage"
   ]
  },
  {
   "cell_type": "code",
   "execution_count": 2,
   "metadata": {},
   "outputs": [
    {
     "name": "stdout",
     "output_type": "stream",
     "text": [
      "WordleBot 🤖 212 4/6\n",
      "\n",
      "🟩⬛⬛🟩🟩\n",
      "🟩⬛🟩🟩🟩\n",
      "🟩⬛🟩🟩🟩\n",
      "🟩🟩🟩🟩🟩\n"
     ]
    }
   ],
   "source": [
    "bot = WordleBot() # defaults solve today's wordle with \"entropy\" strategy\n",
    "bot.solve()"
   ]
  },
  {
   "cell_type": "markdown",
   "metadata": {},
   "source": [
    "#### Let's look a little closer at this.\n",
    "\n",
    "Assign a wordle to the bot (let it choose today's, pick from the numbered list, pick randomly, or just give it a word).  \n",
    "Choose the strategy.  \n",
    "Opt for dark or light mode.  \n",
    "\n",
    "Bot filters the list of possible words according to the information it has, \n",
    "then guesses according to its assigned strategy."
   ]
  },
  {
   "cell_type": "code",
   "execution_count": 3,
   "metadata": {},
   "outputs": [
    {
     "name": "stdout",
     "output_type": "stream",
     "text": [
      "WordleBot 🤖 212 4/6\n",
      "\n",
      "🟩⬛⬛🟩🟩\n",
      "🟩⬛🟩🟩🟩\n",
      "🟩⬛🟩🟩🟩\n",
      "🟩🟩🟩🟩🟩\n"
     ]
    }
   ],
   "source": [
    "# Initialise the WordleBot optional arguments:\n",
    "# wordle: None to pick today's wordle, int to choose that wordle, 'random' to pick random wordle, 5-letter word to set that wordle\n",
    "# strategy: entropy (default), scored, random.\n",
    "# dark_mode: sets whether to display wrong letters as black (True, default) or white (False)\n",
    "# emoji: sets whether the printed output includes emoji or is plain ascii\n",
    "# show_all_lines: If the bot fails to find the answer in 6 guesses, it fails. Set whether to show more than 6 lines in the output.\n",
    "bot = WordleBot(wordle=None,strategy=\"entropy\",dark_mode=True,emoji=True,show_all_lines=False)\n",
    "# Setting wordle=None, or not setting it at all, chooses today's wordle\n",
    "\n",
    "# Tell the bot to solve for the assigned wordle,\n",
    "# filtering the list of possible dictionary words\n",
    "# and guessing according to the chosen strategy\n",
    "bot.solve()\n",
    "\n",
    "# Bot automatically prints out its resulting colours"
   ]
  },
  {
   "cell_type": "markdown",
   "metadata": {},
   "source": [
    "If you want to see the actual words guessed, this is easy to access:"
   ]
  },
  {
   "cell_type": "code",
   "execution_count": 4,
   "metadata": {},
   "outputs": [
    {
     "name": "stdout",
     "output_type": "stream",
     "text": [
      "['soare', 'stire', 'spire', 'shire']\n"
     ]
    }
   ],
   "source": [
    "print(bot.list_of_guesses)"
   ]
  },
  {
   "cell_type": "markdown",
   "metadata": {},
   "source": [
    "Because the bot has access to a large dictionary of words, it has plenty of choice for narrowing down possible letters, but sometimes makes unusual guesses a human might not."
   ]
  },
  {
   "cell_type": "markdown",
   "metadata": {},
   "source": [
    "#### You can set a custom wordle"
   ]
  },
  {
   "cell_type": "code",
   "execution_count": 5,
   "metadata": {},
   "outputs": [
    {
     "name": "stdout",
     "output_type": "stream",
     "text": [
      "WordleBot 🤖 4/6\n",
      "\n",
      "🟨⬛🟨⬛⬛\n",
      "⬛🟨🟩⬛🟩\n",
      "🟩⬛🟩⬛🟩\n",
      "🟩🟩🟩🟩🟩\n"
     ]
    }
   ],
   "source": [
    "bot = WordleBot(wordle='acids') # word must be in dictionary\n",
    "bot.solve()"
   ]
  },
  {
   "cell_type": "code",
   "execution_count": 6,
   "metadata": {},
   "outputs": [
    {
     "name": "stdout",
     "output_type": "stream",
     "text": [
      "WordleBot 🤖 100 3/6\n",
      "\n",
      "🟨⬛🟨⬛⬛\n",
      "⬛🟩🟨⬛🟨\n",
      "🟩🟩🟩🟩🟩\n"
     ]
    }
   ],
   "source": [
    "bot = WordleBot(wordle=100)\n",
    "bot.solve()"
   ]
  },
  {
   "cell_type": "code",
   "execution_count": 7,
   "metadata": {},
   "outputs": [
    {
     "name": "stdout",
     "output_type": "stream",
     "text": [
      "WordleBot 🤖 3/6\n",
      "\n",
      "⬛🟩⬛⬛🟨\n",
      "⬛🟩🟩🟩⬛\n",
      "🟩🟩🟩🟩🟩\n"
     ]
    }
   ],
   "source": [
    "bot = WordleBot(wordle='random')\n",
    "bot.solve()"
   ]
  },
  {
   "cell_type": "markdown",
   "metadata": {},
   "source": [
    "#### You can choose another strategy"
   ]
  },
  {
   "cell_type": "code",
   "execution_count": 8,
   "metadata": {},
   "outputs": [
    {
     "name": "stdout",
     "output_type": "stream",
     "text": [
      "WordleBot 🤖 212 4/6\n",
      "\n",
      "⬛🟨⬛🟨🟩\n",
      "🟩⬛🟩🟩🟩\n",
      "🟩⬛🟩🟩🟩\n",
      "🟩🟩🟩🟩🟩\n"
     ]
    }
   ],
   "source": [
    "bot = WordleBot(strategy='scored') # choose the highest-scored word from a precalculated list\n",
    "bot.solve()"
   ]
  },
  {
   "cell_type": "code",
   "execution_count": 9,
   "metadata": {},
   "outputs": [
    {
     "name": "stdout",
     "output_type": "stream",
     "text": [
      "WordleBot 🤖 212 6/6\n",
      "\n",
      "🟩⬛🟨⬛🟨\n",
      "🟩🟨🟨⬛⬛\n",
      "🟩⬛🟨🟨🟨\n",
      "🟩⬛⬛🟩🟩\n",
      "🟩⬛🟩🟩🟩\n",
      "🟩🟩🟩🟩🟩\n"
     ]
    }
   ],
   "source": [
    "bot = WordleBot(strategy='random') # just pick any word that fits\n",
    "bot.solve()"
   ]
  },
  {
   "cell_type": "markdown",
   "metadata": {},
   "source": [
    "#### You can choose to use light mode"
   ]
  },
  {
   "cell_type": "code",
   "execution_count": 10,
   "metadata": {},
   "outputs": [
    {
     "name": "stdout",
     "output_type": "stream",
     "text": [
      "WordleBot 🤖 212 4/6\n",
      "\n",
      "🟩⬜⬜🟩🟩\n",
      "🟩⬜🟩🟩🟩\n",
      "🟩⬜🟩🟩🟩\n",
      "🟩🟩🟩🟩🟩\n"
     ]
    }
   ],
   "source": [
    "bot = WordleBot(dark_mode=False) # wrong letters appear white, not black\n",
    "bot.solve()"
   ]
  }
 ],
 "metadata": {
  "kernelspec": {
   "display_name": "Python 3",
   "language": "python",
   "name": "python3"
  },
  "language_info": {
   "codemirror_mode": {
    "name": "ipython",
    "version": 3
   },
   "file_extension": ".py",
   "mimetype": "text/x-python",
   "name": "python",
   "nbconvert_exporter": "python",
   "pygments_lexer": "ipython3",
   "version": "3.7.4"
  }
 },
 "nbformat": 4,
 "nbformat_minor": 5
}
