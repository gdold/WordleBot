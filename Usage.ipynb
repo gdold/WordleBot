{
 "cells": [
  {
   "cell_type": "markdown",
   "id": "7e2e78ed",
   "metadata": {},
   "source": [
    "# Imports"
   ]
  },
  {
   "cell_type": "code",
   "execution_count": 1,
   "id": "bd12992a",
   "metadata": {},
   "outputs": [],
   "source": [
    "from WordleBot import WordleBot"
   ]
  },
  {
   "cell_type": "code",
   "execution_count": 2,
   "id": "c2302449",
   "metadata": {},
   "outputs": [],
   "source": [
    "import numpy as np\n",
    "import matplotlib.pyplot as plt"
   ]
  },
  {
   "cell_type": "markdown",
   "id": "e231921e",
   "metadata": {},
   "source": [
    "# Basic usage"
   ]
  },
  {
   "cell_type": "code",
   "execution_count": 3,
   "id": "2c76520f",
   "metadata": {},
   "outputs": [
    {
     "name": "stdout",
     "output_type": "stream",
     "text": [
      "⬛🟨⬛🟨⬛\n",
      "🟩⬛🟩⬛🟨\n",
      "🟩🟩🟩🟨⬛\n",
      "🟩🟩🟩⬛🟩\n",
      "🟩🟩🟩🟩🟩\n"
     ]
    }
   ],
   "source": [
    "bot = WordleBot()\n",
    "bot.set_wordle(bot.wordles[209])\n",
    "#bot.pick_wordle(209) # equivalent to above\n",
    "#bot.set_todays_wordle()\n",
    "#bot.set_wordle('kiosk')\n",
    "\n",
    "while not bot.solved:\n",
    "    bot.filter_possible_words()\n",
    "    guess = bot.make_random_guess()\n",
    "    bot.check_guess(guess)\n",
    "\n",
    "bot.print_colours()"
   ]
  },
  {
   "cell_type": "markdown",
   "id": "5419339e",
   "metadata": {},
   "source": [
    "or, for the basic setup of picking today's wordle and solving it with the very basic strategy above:"
   ]
  },
  {
   "cell_type": "code",
   "execution_count": 4,
   "id": "a6daba39",
   "metadata": {},
   "outputs": [
    {
     "name": "stdout",
     "output_type": "stream",
     "text": [
      "🟨🟩⬛⬛⬛\n",
      "⬛🟩🟨🟩🟩\n",
      "⬛🟩🟩🟩🟩\n",
      "🟩🟩🟩🟩🟩\n"
     ]
    }
   ],
   "source": [
    "bot = WordleBot()\n",
    "bot.solve() # solve() will set today's wordle if you neglected to set it already"
   ]
  },
  {
   "cell_type": "markdown",
   "id": "82e2bd07",
   "metadata": {},
   "source": [
    "# Script for testing out strategies"
   ]
  },
  {
   "cell_type": "code",
   "execution_count": 5,
   "id": "2fb7458f",
   "metadata": {},
   "outputs": [
    {
     "name": "stdout",
     "output_type": "stream",
     "text": [
      "Success rate: 82.70%\n"
     ]
    },
    {
     "data": {
      "image/png": "[encoded data removed]",
      "text/plain": [
       "<Figure size 432x288 with 1 Axes>"
      ]
     },
     "metadata": {
      "needs_background": "light"
     },
     "output_type": "display_data"
    }
   ],
   "source": [
    "num_of_guesses_to_get_answer = []\n",
    "\n",
    "n = len(bot.dictionary)\n",
    "i = 0\n",
    "for wordle in bot.dictionary:\n",
    "    i += 1\n",
    "    print('\\r{}/{}'.format(i,n),end='')\n",
    "    \n",
    "    bot = WordleBot()\n",
    "    bot.set_wordle(wordle)\n",
    "    \n",
    "    ### PUT YOUR STRATEGY HERE ###\n",
    "    while not bot.solved:\n",
    "        bot.filter_possible_words()\n",
    "        guess = bot.make_random_guess()\n",
    "        bot.check_guess(guess)\n",
    "    ### PUT YOUR STRATEGY HERE ###\n",
    "    \n",
    "    num_of_guesses_to_get_answer.append(bot.num_of_guesses)\n",
    "\n",
    "success_rate = (np.array(num_of_guesses_to_get_answer)<7).sum()/n*100\n",
    "print('\\rSuccess rate: {:.2f}%'.format(success_rate))\n",
    "plt.hist(num_of_guesses_to_get_answer,bins=[1,2,3,4,5,6,7,8,9,10,11,12,13,14,15])\n",
    "plt.vlines(6,0,plt.ylim()[1],colors='r')\n",
    "plt.show()"
   ]
  }
 ],
 "metadata": {
  "kernelspec": {
   "display_name": "Python 3",
   "language": "python",
   "name": "python3"
  },
  "language_info": {
   "codemirror_mode": {
    "name": "ipython",
    "version": 3
   },
   "file_extension": ".py",
   "mimetype": "text/x-python",
   "name": "python",
   "nbconvert_exporter": "python",
   "pygments_lexer": "ipython3",
   "version": "3.7.3"
  }
 },
 "nbformat": 4,
 "nbformat_minor": 5
}
