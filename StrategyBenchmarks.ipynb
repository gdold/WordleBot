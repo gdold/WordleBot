{
 "cells": [
  {
   "cell_type": "markdown",
   "metadata": {},
   "source": [
    "# Imports"
   ]
  },
  {
   "cell_type": "code",
   "execution_count": 1,
   "metadata": {},
   "outputs": [],
   "source": [
    "from WordleBot import WordleBot"
   ]
  },
  {
   "cell_type": "code",
   "execution_count": 2,
   "metadata": {},
   "outputs": [],
   "source": [
    "# We'll use these for testing strategies\n",
    "import numpy as np\n",
    "import matplotlib.pyplot as plt\n",
    "from multiprocessing import Pool\n",
    "from time import perf_counter\n",
    "\n",
    "def performance_plot(num_of_guesses_to_get_answer):\n",
    "    success_rate = (np.array(num_of_guesses_to_get_answer)<7).sum()/len(num_of_guesses_to_get_answer)\n",
    "    print('\\rSuccess rate: {:.2%}'.format(success_rate))\n",
    "    print('Median guesses: {:.0f}'.format(np.median(num_of_guesses_to_get_answer)))\n",
    "    print('Mean guesses: {:.2f}'.format(np.mean(num_of_guesses_to_get_answer)))\n",
    "\n",
    "    plt.hist(num_of_guesses_to_get_answer,bins=range(1,16),align=\"left\")\n",
    "    y_max = plt.ylim()[1]\n",
    "    plt.vlines(7,0,y_max,colors='r')\n",
    "    plt.xlim([1,15])\n",
    "    plt.ylim([0,y_max])\n",
    "    plt.xlabel('Number of guesses')\n",
    "    plt.ylabel('Occurence')\n",
    "    plt.title('Histogram of \"{}\" guesses over entire dictionary'.format(strategy))\n",
    "    plt.show()\n"
   ]
  },
  {
   "cell_type": "code",
   "execution_count": 3,
   "metadata": {},
   "outputs": [],
   "source": [
    "bot = WordleBot()"
   ]
  },
  {
   "cell_type": "markdown",
   "metadata": {},
   "source": [
    "# Script for testing out strategies\n",
    "\n",
    "When you initiate WordleBot, you can send the optional argument ```strategy``` which selects a strategy for the guesser. ```strategy``` equals \"entropy\" by default.\n",
    "\n",
    "The \"entropy\" strategy guesses the word that most reduces the entropy in the list of possible words at each stage.  \n",
    "The \"scored\" strategy chooses the first possible word from a pre-sorted list of words, ranked according to the occurrence of unique common letters.  \n",
    "The \"random\" strategy chooses a random possible word."
   ]
  },
  {
   "cell_type": "markdown",
   "metadata": {},
   "source": [
    "### Performance of \"entropy\" strategy:"
   ]
  },
  {
   "cell_type": "code",
   "execution_count": 4,
   "metadata": {},
   "outputs": [],
   "source": [
    "strategy = \"entropy\"\n",
    "\n",
    "def do_a_wordle(wordle):\n",
    "    bot = WordleBot(wordle=wordle,strategy=strategy,dark_mode=False)\n",
    "    \n",
    "    while not bot.solved:\n",
    "        bot.filter_possible_words()\n",
    "        guess = bot.make_guess()\n",
    "        bot.check_guess(guess)\n",
    "    return bot.num_of_guesses"
   ]
  },
  {
   "cell_type": "code",
   "execution_count": 5,
   "metadata": {},
   "outputs": [],
   "source": [
    "pooling=True\n",
    "n = len(bot.dictionary)\n",
    "if pooling:\n",
    "        pool=Pool()\n",
    "        num_of_guesses_to_get_answer=pool.map(do_a_wordle,bot.wordles)\n",
    "else:\n",
    "    num_of_guesses_to_get_answer = []\n",
    "\n",
    "    i = 0\n",
    "    for i,wordle in enumerate(bot.dictionary):\n",
    "        do_a_wordle(wordle)\n",
    "        print('\\r{}/{}'.format(i+1,n),end='')\n",
    "        num_of_guesses_to_get_answer.append(bot.num_of_guesses)"
   ]
  },
  {
   "cell_type": "code",
   "execution_count": 6,
   "metadata": {},
   "outputs": [
    {
     "name": "stdout",
     "output_type": "stream",
     "text": [
      "Success rate: 96.03%\n",
      "Median guesses: 4\n",
      "Mean guesses: 4.18\n"
     ]
    },
    {
     "data": {
      "image/png": "[encoded data removed]",
      "text/plain": [
       "<Figure size 432x288 with 1 Axes>"
      ]
     },
     "metadata": {
      "needs_background": "light"
     },
     "output_type": "display_data"
    }
   ],
   "source": [
    "performance_plot(num_of_guesses_to_get_answer)"
   ]
  },
  {
   "cell_type": "markdown",
   "metadata": {},
   "source": [
    "### Performance of \"scored\" strategy:"
   ]
  },
  {
   "cell_type": "code",
   "execution_count": 13,
   "metadata": {},
   "outputs": [],
   "source": [
    "strategy = \"scored\"\n",
    "\n",
    "def do_a_wordle(wordle):\n",
    "    bot = WordleBot(wordle=wordle,strategy=strategy)\n",
    "    \n",
    "    while not bot.solved:\n",
    "        bot.filter_possible_words()\n",
    "        guess = bot.make_guess()\n",
    "        bot.check_guess(guess)\n",
    "    return bot.num_of_guesses"
   ]
  },
  {
   "cell_type": "code",
   "execution_count": 14,
   "metadata": {},
   "outputs": [],
   "source": [
    "pooling=True\n",
    "n = len(bot.dictionary)\n",
    "if pooling:\n",
    "        pool=Pool()\n",
    "        num_of_guesses_to_get_answer=pool.map(do_a_wordle,bot.wordles)\n",
    "else:\n",
    "    num_of_guesses_to_get_answer = []\n",
    "\n",
    "    i = 0\n",
    "    for i,wordle in enumerate(bot.dictionary):\n",
    "        do_a_wordle(wordle)\n",
    "        print('\\r{}/{}'.format(i+1,n),end='')\n",
    "        num_of_guesses_to_get_answer.append(bot.num_of_guesses)"
   ]
  },
  {
   "cell_type": "code",
   "execution_count": 15,
   "metadata": {},
   "outputs": [
    {
     "name": "stdout",
     "output_type": "stream",
     "text": [
      "Success rate: 90.32%\n",
      "Median guesses: 4\n",
      "Mean guesses: 4.68\n"
     ]
    },
    {
     "data": {
      "image/png": "[encoded data removed]",
      "text/plain": [
       "<Figure size 432x288 with 1 Axes>"
      ]
     },
     "metadata": {
      "needs_background": "light"
     },
     "output_type": "display_data"
    }
   ],
   "source": [
    "performance_plot(num_of_guesses_to_get_answer)"
   ]
  },
  {
   "cell_type": "markdown",
   "metadata": {},
   "source": [
    "### Performance of \"random\" strategy:"
   ]
  },
  {
   "cell_type": "code",
   "execution_count": 17,
   "metadata": {},
   "outputs": [],
   "source": [
    "strategy = \"random\"\n",
    "\n",
    "def do_a_wordle(wordle):\n",
    "    bot = WordleBot(wordle=wordle,strategy=strategy)\n",
    "    \n",
    "    while not bot.solved:\n",
    "        bot.filter_possible_words()\n",
    "        guess = bot.make_guess()\n",
    "        bot.check_guess(guess)\n",
    "    return bot.num_of_guesses"
   ]
  },
  {
   "cell_type": "code",
   "execution_count": 18,
   "metadata": {},
   "outputs": [],
   "source": [
    "pooling=True\n",
    "n = len(bot.dictionary)\n",
    "if pooling:\n",
    "        pool=Pool()\n",
    "        num_of_guesses_to_get_answer=pool.map(do_a_wordle,bot.wordles)\n",
    "else:\n",
    "    num_of_guesses_to_get_answer = []\n",
    "\n",
    "    i = 0\n",
    "    for i,wordle in enumerate(bot.dictionary):\n",
    "        do_a_wordle(wordle)\n",
    "        print('\\r{}/{}'.format(i+1,n),end='')\n",
    "        num_of_guesses_to_get_answer.append(bot.num_of_guesses)"
   ]
  },
  {
   "cell_type": "code",
   "execution_count": 19,
   "metadata": {},
   "outputs": [
    {
     "name": "stdout",
     "output_type": "stream",
     "text": [
      "Success rate: 88.12%\n",
      "Median guesses: 5\n",
      "Mean guesses: 4.97\n"
     ]
    },
    {
     "data": {
      "image/png": "[encoded data removed]",
      "text/plain": [
       "<Figure size 432x288 with 1 Axes>"
      ]
     },
     "metadata": {
      "needs_background": "light"
     },
     "output_type": "display_data"
    }
   ],
   "source": [
    "performance_plot(num_of_guesses_to_get_answer)"
   ]
  },
  {
   "cell_type": "code",
   "execution_count": null,
   "metadata": {},
   "outputs": [],
   "source": []
  }
 ],
 "metadata": {
  "kernelspec": {
   "display_name": "Python 3",
   "language": "python",
   "name": "python3"
  },
  "language_info": {
   "codemirror_mode": {
    "name": "ipython",
    "version": 3
   },
   "file_extension": ".py",
   "mimetype": "text/x-python",
   "name": "python",
   "nbconvert_exporter": "python",
   "pygments_lexer": "ipython3",
   "version": "3.8.11"
  }
 },
 "nbformat": 4,
 "nbformat_minor": 4
}
